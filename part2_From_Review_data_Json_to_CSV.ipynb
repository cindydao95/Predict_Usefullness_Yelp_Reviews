{
 "cells": [
  {
   "cell_type": "code",
   "execution_count": 1,
   "id": "eddf8149",
   "metadata": {},
   "outputs": [],
   "source": [
    "import json"
   ]
  },
  {
   "cell_type": "code",
   "execution_count": 4,
   "id": "3b2221b3",
   "metadata": {},
   "outputs": [],
   "source": [
    "import csv\n",
    "\n",
    "out_file_name = \"review_dataset.csv\"\n",
    "myFile = open(out_file_name, 'w', encoding=\"utf-8\", newline=\"\") # encoding=\"utf-8\")\n",
    "CSVWriter = csv.writer(myFile)\n",
    "\n",
    "data_temp =[]\n",
    "data_temp.append('ReviewId')\n",
    "data_temp.append('Business ID')\n",
    "data_temp.append('user_id')\n",
    "data_temp.append('useful')\n",
    "data_temp.append('stars')\n",
    "data_temp.append('date')\n",
    "data_temp.append('review_text')\n",
    "CSVWriter.writerow(data_temp)\n",
    "\n",
    "with open('yelp_academic_dataset_review.json', encoding=\"utf-8\") as f:\n",
    "    for line in f:\n",
    "        user = json.loads(line)\n",
    "        temp_data = []\n",
    "        temp_data.append(user['review_id'])\n",
    "        temp_data.append(user['business_id'])\n",
    "        temp_data.append(user['user_id'])\n",
    "        temp_data.append(user['useful'])\n",
    "        temp_data.append(user['stars'])\n",
    "        temp_data.append(user['date'])\n",
    "        temp_data.append(user['text'])\n",
    "        CSVWriter.writerow(temp_data)\n",
    "\n",
    "\n",
    "\n",
    "\n",
    "    "
   ]
  },
  {
   "cell_type": "code",
   "execution_count": 6,
   "id": "a86fa3e5",
   "metadata": {},
   "outputs": [],
   "source": [
    "myFile.close()"
   ]
  }
 ],
 "metadata": {
  "kernelspec": {
   "display_name": "Python 3 (ipykernel)",
   "language": "python",
   "name": "python3"
  },
  "language_info": {
   "codemirror_mode": {
    "name": "ipython",
    "version": 3
   },
   "file_extension": ".py",
   "mimetype": "text/x-python",
   "name": "python",
   "nbconvert_exporter": "python",
   "pygments_lexer": "ipython3",
   "version": "3.9.7"
  }
 },
 "nbformat": 4,
 "nbformat_minor": 5
}
