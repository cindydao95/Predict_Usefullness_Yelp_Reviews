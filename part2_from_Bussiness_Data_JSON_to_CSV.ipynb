{
 "cells": [
  {
   "cell_type": "code",
   "execution_count": 1,
   "id": "antique-census",
   "metadata": {},
   "outputs": [],
   "source": [
    "import json"
   ]
  },
  {
   "cell_type": "code",
   "execution_count": 19,
   "id": "a8a2bc17",
   "metadata": {},
   "outputs": [],
   "source": [
    "import json\n",
    "\n",
    "with open('yelp_academic_dataset_business.json', encoding=\"utf-8\") as f:\n",
    "    data = f.readlines()\n",
    "\n",
    "\n",
    "# Save data\n",
    "import csv\n",
    "\n",
    "out_file_name = \"yelp_business.csv\"\n",
    "myFile = open(out_file_name, 'w', encoding=\"utf-8\", newline=\"\") # encoding=\"utf-8\")\n",
    "CSVWriter = csv.writer(myFile)\n",
    "\n",
    "temp_data = []\n",
    "temp_data.append(\"Business ID\")\n",
    "temp_data.append(\"Name\")\n",
    "temp_data.append(\"City\")\n",
    "temp_data.append(\"State\")  #select state in Texas\n",
    "temp_data.append(\"Postal_code\")  #\n",
    "temp_data.append('business_stars')\n",
    "temp_data.append('review_counts')\n",
    "temp_data.append('is_open')\n",
    "temp_data.append(\"RestaurantGroup\")  #bool value. Get only restaurants data\n",
    "temp_data.append(\"Categories\")  #text\n",
    "CSVWriter.writerow(temp_data)\n",
    "\n",
    "for line in data:\n",
    "    user = json.loads(line)\n",
    "    #print(user)\n",
    "    data_temp = []\n",
    "    data_temp.append(user['business_id'])\n",
    "    data_temp.append(user['name'])\n",
    "    data_temp.append(user['city'])\n",
    "    data_temp.append(user['state'])\n",
    "    data_temp.append(user['postal_code'])\n",
    "    data_temp.append(user['stars'])\n",
    "    data_temp.append(user['review_count'])\n",
    "    data_temp.append(user['is_open']) \n",
    "    if user['attributes'] != None:\n",
    "        try:        \n",
    "            data_temp.append(user['attributes']['RestaurantsGoodForGroups'])\n",
    "        except KeyError:\n",
    "            data_temp.append('None')\n",
    "    else:\n",
    "        data_temp.append('None')\n",
    "    data_temp.append(user['categories'])\n",
    "    CSVWriter.writerow(data_temp)\n",
    "    "
   ]
  },
  {
   "cell_type": "code",
   "execution_count": null,
   "id": "c91fdccd",
   "metadata": {},
   "outputs": [],
   "source": []
  },
  {
   "cell_type": "code",
   "execution_count": null,
   "id": "5c1761c6",
   "metadata": {},
   "outputs": [],
   "source": []
  }
 ],
 "metadata": {
  "kernelspec": {
   "display_name": "Python 3 (ipykernel)",
   "language": "python",
   "name": "python3"
  },
  "language_info": {
   "codemirror_mode": {
    "name": "ipython",
    "version": 3
   },
   "file_extension": ".py",
   "mimetype": "text/x-python",
   "name": "python",
   "nbconvert_exporter": "python",
   "pygments_lexer": "ipython3",
   "version": "3.9.7"
  }
 },
 "nbformat": 4,
 "nbformat_minor": 5
}
