{
 "cells": [
  {
   "cell_type": "code",
   "execution_count": 5,
   "id": "8932f9a9",
   "metadata": {},
   "outputs": [],
   "source": [
    "import json"
   ]
  },
  {
   "cell_type": "code",
   "execution_count": 6,
   "id": "eb23e221",
   "metadata": {},
   "outputs": [
    {
     "data": {
      "text/plain": [
       "70"
      ]
     },
     "execution_count": 6,
     "metadata": {},
     "output_type": "execute_result"
    }
   ],
   "source": [
    "import csv\n",
    "myfile = open(\"user_dataset_updated1.csv\", \"w\", encoding = \"utf-8\")\n",
    "csvwriter = csv.writer(myfile)\n",
    "\n",
    "temp_data = [\"user_id\",\"review_count\",\"yelping_since\",\"useful\",\"friends\",\n",
    "            \"average_stars\",\"fans\"]\n",
    "\n",
    "csvwriter.writerow(temp_data)\n"
   ]
  },
  {
   "cell_type": "code",
   "execution_count": 7,
   "id": "96161a90",
   "metadata": {
    "scrolled": true
   },
   "outputs": [],
   "source": [
    "file = 'yelp_academic_dataset_user.json'\n",
    "with open(\"yelp_academic_dataset_user.json\", encoding = \"utf-8\") as f:\n",
    "    for line in f:\n",
    "        user = json.loads(line)\n",
    "        temp_data = []\n",
    "        temp_data.append(user['user_id'])\n",
    "        temp_data.append(user[\"review_count\"])\n",
    "        temp_data.append(user[\"yelping_since\"])\n",
    "        temp_data.append(user[\"useful\"])\n",
    "        temp_data.append(user[\"friends\"])\n",
    "        temp_data.append(user[\"average_stars\"])\n",
    "        temp_data.append(user[\"fans\"])\n",
    "        csvwriter.writerow(temp_data)"
   ]
  },
  {
   "cell_type": "code",
   "execution_count": null,
   "id": "fba83e2c",
   "metadata": {},
   "outputs": [],
   "source": []
  }
 ],
 "metadata": {
  "kernelspec": {
   "display_name": "Python 3 (ipykernel)",
   "language": "python",
   "name": "python3"
  },
  "language_info": {
   "codemirror_mode": {
    "name": "ipython",
    "version": 3
   },
   "file_extension": ".py",
   "mimetype": "text/x-python",
   "name": "python",
   "nbconvert_exporter": "python",
   "pygments_lexer": "ipython3",
   "version": "3.9.7"
  }
 },
 "nbformat": 4,
 "nbformat_minor": 5
}
